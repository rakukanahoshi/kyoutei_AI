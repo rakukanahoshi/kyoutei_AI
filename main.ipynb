{
 "cells": [
  {
   "cell_type": "code",
   "execution_count": 2,
   "metadata": {},
   "outputs": [],
   "source": [
    "%load_ext autoreload\n",
    "%autoreload 2"
   ]
  },
  {
   "cell_type": "code",
   "execution_count": 18,
   "metadata": {},
   "outputs": [],
   "source": [
    "import pandas as pd\n",
    "import os\n",
    "import requests\n",
    "from bs4 import BeautifulSoup\n",
    "\n",
    "import util as u\n",
    "\n",
    "from glob import glob\n",
    "from tqdm import tqdm_notebook as tqdm\n",
    "\n",
    "pd.set_option('display.max_columns', 200)\n"
   ]
  },
  {
   "cell_type": "code",
   "execution_count": 4,
   "metadata": {},
   "outputs": [],
   "source": [
    "#巡回先を作る\n",
    "#枠とレースIDがあればマージできる？\n",
    "result_infofile_list = glob(\"test/*/info_html/*\") # 後々フォルダーが変わる\n",
    "main_info_file = [x.replace(\"\\\\\", \"/\") for x in result_infofile_list]\n",
    "\n",
    "result_resultfile_list = glob(\"test/*/result_html/*\") # 後々フォルダーが変わる\n",
    "main_result_file = [x.replace(\"\\\\\", \"/\") for x in result_resultfile_list]\n",
    "\n",
    "target_info_list = [] #配列を空にする\n",
    "target_result_list = [] #配列を空にする\n",
    "\n",
    "match_up_info_list = [] #配列を空にする\n",
    "match_up_result_list = [] #配列を空にする\n",
    "\n",
    "#is_file = os.path.isfile(\"match_up.txt\")\n",
    "\n",
    "#if is_file:\n",
    "#    with open(\"match_up.txt\", \"r\") as tf:\n",
    "#        match_up_list = tf.read().split(',')[:-1]\n",
    "#    #途中から始めるためのコード書く\n",
    "#    target_txts_list = set(result_file) - set(match_up_list)\n",
    "#else:\n",
    "#    target_txts_list = result_file\n",
    "\n",
    "target_info_list = main_info_file[9:10]\n",
    "target_result_list = main_result_file[0:1]"
   ]
  },
  {
   "cell_type": "code",
   "execution_count": 5,
   "metadata": {},
   "outputs": [],
   "source": [
    "#データフレームを4個作る\n",
    "main_info = pd.DataFrame(index=[])\n",
    "main_info_dummy = pd.DataFrame(index=[])\n",
    "main_result = pd.DataFrame(index=[])\n",
    "main_result_dummy = pd.DataFrame(index=[])\n",
    "\n",
    "New_col = 'insert_1_1 insert_1_2 insert_2_1 insert_2_2 insert_3_1 insert_3_2 insert_4_1 insert_4_2 insert_5_1 insert_5_2 insert_6_1 insert_6_2 insert_7_1 insert_7_2 \\\n",
    "            start_timing_1_1 start_timing_1_2 start_timing_2_1 start_timing_2_2 start_timing_3_1 start_timing_3_2 start_timing_4_1 start_timing_4_2 start_timing_5_1 start_timing_5_2 start_timing_6_1 start_timing_6_2 start_timing_7_1 start_timing_7_2 \\\n",
    "            rank_1_1 rank_1_2 rank_2_1 rank_2_2 rank_3_1 rank_3_2 rank_4_1 rank_4_2 rank_5_1 rank_5_2 rank_6_1 rank_6_2 rank_7_1 rank_7_2'.split()\n",
    "\n",
    "dfs_all = pd.DataFrame(index=[])\n",
    "dfs_dummy = pd.DataFrame(index=[])"
   ]
  },
  {
   "cell_type": "code",
   "execution_count": 16,
   "metadata": {},
   "outputs": [
    {
     "name": "stderr",
     "output_type": "stream",
     "text": [
      "C:\\Users\\rstta\\AppData\\Local\\Temp/ipykernel_24952/1122333444.py:10: TqdmDeprecationWarning: This function will be removed in tqdm==5.0.0\n",
      "Please use `tqdm.notebook.tqdm` instead of `tqdm.tqdm_notebook`\n",
      "  for target_info in tqdm(target_info_list):\n"
     ]
    },
    {
     "data": {
      "application/vnd.jupyter.widget-view+json": {
       "model_id": "b5501868e88e41438e93a2f074826ad4",
       "version_major": 2,
       "version_minor": 0
      },
      "text/plain": [
       "  0%|          | 0/1 [00:00<?, ?it/s]"
      ]
     },
     "metadata": {},
     "output_type": "display_data"
    },
    {
     "name": "stderr",
     "output_type": "stream",
     "text": [
      "D:\\anaconda3\\lib\\site-packages\\IPython\\core\\interactiveshell.py:2947: PerformanceWarning: indexing past lexsort depth may impact performance.\n",
      "  return runner(coro)\n"
     ]
    },
    {
     "name": "stdout",
     "output_type": "stream",
     "text": [
      "test/01/info_html/01_20140102_10.html\n"
     ]
    }
   ],
   "source": [
    "###後で消す↓###\n",
    "main_info = pd.DataFrame(index=[])\n",
    "main_info_dummy = pd.DataFrame(index=[])\n",
    "###↑後で消す###\n",
    "\n",
    "# info_htmlの加工をする\n",
    "# race_id、枠、選手ID、級別、体重(直前情報から取る)、調整重量、F数、L数、平均ST、モーター2連、モーター3連、初日進入、\n",
    "# 初日ST、初日成績、～ 、最終日、展示タイム、チルト、プロペラ、部品交換\n",
    "\n",
    "for target_info in tqdm(target_info_list):\n",
    "    for i in range(1, 7):\n",
    "        target_info_day = target_info[-19:-5]\n",
    "        Pit_No = f\"{i:02}\"\n",
    "        \n",
    "        #レース結果を保存したhtmlファイルとそのDF\n",
    "        target_info_day = target_info[-19:-5]\n",
    "        dfs = pd.read_html(target_info, encoding=\"utf-8\")\n",
    "        race_info1_df = dfs[0]\n",
    "        \n",
    "        #dfs[0]の整理\n",
    "        df_player_info = u.split_inner_data(u.parse(race_info1_df), target_info_day)\n",
    "        df_player_info = df_player_info.iloc[i-1]\n",
    "\n",
    "        player_ID = df_player_info[\"pid\"]\n",
    "\n",
    "        #複勝率、三連率を計算\n",
    "        player_win_rate = u.player_win_rate_cal(target_info_day, player_ID)\n",
    "        se_player_win_rate = player_win_rate.iloc[0]\n",
    "\n",
    "\n",
    "\n",
    "\n",
    "\n",
    "        #結合する\n",
    "        df_open_grades = u.Open_Grades_sort(target_info).iloc[i-1]\n",
    "\n",
    "        main_info_dummy = pd.concat([df_player_info, se_player_win_rate])\n",
    "        #\n",
    "        main_info_dummy = pd.concat([main_info_dummy, df_open_grades])\n",
    "\n",
    "        main_info = main_info.append(main_info_dummy, ignore_index=True)\n",
    "\n",
    "#print(df_player_info[0])\n",
    "print(target_info)\n",
    "#display(main_info)\n",
    "#display(player_win_rate)\n",
    "#display(dfs)\n",
    "#display(dfs[1])\n",
    "#display(dfs[2])\n"
   ]
  },
  {
   "cell_type": "code",
   "execution_count": 47,
   "metadata": {},
   "outputs": [
    {
     "name": "stdout",
     "output_type": "stream",
     "text": [
      "[<td class=\"is-boatColor1 is-fs14\" rowspan=\"4\">１</td>, <td class=\"is-boatColor2\">5</td>, <td class=\"is-boatColor2 is-fs14\" rowspan=\"4\">２</td>, <td class=\"is-boatColor3 is-fs14\" rowspan=\"4\">３</td>, <td class=\"is-boatColor2\">2</td>, <td class=\"is-boatColor4 is-fs14\" rowspan=\"4\">４</td>, <td class=\"is-boatColor5\">6</td>, <td class=\"is-boatColor5 is-fs14\" rowspan=\"4\">５</td>, <td class=\"is-boatColor6\">3</td>, <td class=\"is-boatColor6 is-fs14\" rowspan=\"4\">６</td>, <td class=\"is-boatColor4\">4</td>, <td class=\"is-boatColor1 is-fs14\" rowspan=\"4\">1</td>, <td class=\"is-boatColor2\">5</td>, <td class=\"is-boatColor2 is-fs14\" rowspan=\"4\">2</td>, <td class=\"is-boatColor3 is-fs14\" rowspan=\"4\">3</td>, <td class=\"is-boatColor2\">2</td>, <td class=\"is-boatColor4 is-fs14\" rowspan=\"4\">4</td>, <td class=\"is-boatColor5\">6</td>, <td class=\"is-boatColor5 is-fs14\" rowspan=\"4\">5</td>, <td class=\"is-boatColor6\">3</td>, <td class=\"is-boatColor6 is-fs14\" rowspan=\"4\">6</td>, <td class=\"is-boatColor4\">4</td>]\n"
     ]
    }
   ],
   "source": [
    "load_url = target_info\n",
    "#html = requests.get(load_url)\n",
    "soup = BeautifulSoup(open(\"row_html/01/info_html/01_20140102_10.html\", encoding=\"utf-8\"), \"lxml\")\n",
    "\n",
    "print(soup.select(\"[class^=is-boatColor]\"))\n",
    "\n",
    "#source = soup.find_all('input', id=lambda value: value and value.startswith('sample_'))"
   ]
  },
  {
   "cell_type": "code",
   "execution_count": 8,
   "metadata": {},
   "outputs": [],
   "source": [
    "# result_htmlの加工をする"
   ]
  },
  {
   "cell_type": "markdown",
   "metadata": {},
   "source": [
    "### データが取れてないところからデータを取る処理を書く"
   ]
  },
  {
   "cell_type": "markdown",
   "metadata": {},
   "source": [
    "### 現在開催されているデータを引っ張ってくる"
   ]
  },
  {
   "cell_type": "markdown",
   "metadata": {},
   "source": [
    "### PyCaretってのを使ってみるよ"
   ]
  }
 ],
 "metadata": {
  "interpreter": {
   "hash": "66d3dff0f861d9072116ec1311a2e72521a3dba101ab72f1cacc727050528a4f"
  },
  "kernelspec": {
   "display_name": "Python 3.9.7",
   "language": "python",
   "name": "python3"
  },
  "language_info": {
   "codemirror_mode": {
    "name": "ipython",
    "version": 3
   },
   "file_extension": ".py",
   "mimetype": "text/x-python",
   "name": "python",
   "nbconvert_exporter": "python",
   "pygments_lexer": "ipython3",
   "version": "3.9.7"
  },
  "orig_nbformat": 4
 },
 "nbformat": 4,
 "nbformat_minor": 2
}
