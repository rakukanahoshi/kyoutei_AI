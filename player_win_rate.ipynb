{
 "cells": [
  {
   "cell_type": "markdown",
   "metadata": {},
   "source": [
    "選手のレース場、着順、日付をひたすらまとめていく"
   ]
  },
  {
   "cell_type": "code",
   "execution_count": 4,
   "metadata": {},
   "outputs": [
    {
     "name": "stdout",
     "output_type": "stream",
     "text": [
      "Requirement already satisfied: tqdm in c:\\users\\rstta\\anaconda3\\lib\\site-packages (4.62.3)\n",
      "Requirement already satisfied: colorama in c:\\users\\rstta\\anaconda3\\lib\\site-packages (from tqdm) (0.4.4)\n"
     ]
    }
   ],
   "source": [
    "#!pip install tqdm"
   ]
  },
  {
   "cell_type": "code",
   "execution_count": 2,
   "metadata": {},
   "outputs": [],
   "source": [
    "import pandas as pd\n",
    "import os\n",
    "from glob import glob\n",
    "from tqdm import tqdm_notebook as tqdm\n",
    "\n",
    "#格納したいカラムのデータフレームを作成する\n",
    "Player_Data = [\"PlayerID\", \"PlayerName\", \"Rank\", \"Day\", \"Race_No\", \"Place\"]\n",
    "Player_Data_Ghost = pd.DataFrame(index=[], columns=Player_Data)\n",
    "df_player_data = pd.DataFrame(index=[], columns=Player_Data)"
   ]
  },
  {
   "cell_type": "code",
   "execution_count": 5,
   "metadata": {},
   "outputs": [
    {
     "name": "stdout",
     "output_type": "stream",
     "text": [
      "37474\n",
      "37474\n"
     ]
    }
   ],
   "source": [
    "result_file_list = glob(\"test/*/result_html/*\")\n",
    "result_file = [x.replace(\"\\\\\", \"/\") for x in result_file_list]\n",
    "#print(result_file[1])\n",
    "\n",
    "#途中から始める処理を書く\n",
    "is_file = os.path.isfile(\"match_up.txt\")\n",
    "\n",
    "target_txts_list = [] #配列を空にする\n",
    "match_up_list = [] #配列を空にする\n",
    "\n",
    "if is_file:\n",
    "    with open(\"match_up.txt\", \"r\") as tf:\n",
    "        match_up_list = tf.read().split(',')[:-1]\n",
    "    #途中から始めるためのコード書く\n",
    "    target_txts_list = set(result_file) - set(match_up_list)\n",
    "else:\n",
    "    target_txts_list = result_file\n",
    "\n",
    "print(len(result_file))\n",
    "print(len(target_txts_list))\n",
    "\n",
    "#ディレクトリ探す\n",
    "#jou_number = os.listdir(f\"test/\")\n"
   ]
  },
  {
   "cell_type": "code",
   "execution_count": 6,
   "metadata": {},
   "outputs": [
    {
     "name": "stderr",
     "output_type": "stream",
     "text": [
      "C:\\Users\\rstta\\AppData\\Local\\Temp/ipykernel_9520/3149970973.py:3: TqdmDeprecationWarning: This function will be removed in tqdm==5.0.0\n",
      "Please use `tqdm.notebook.tqdm` instead of `tqdm.tqdm_notebook`\n",
      "  for target_txt in tqdm(target_txts_list):\n"
     ]
    },
    {
     "data": {
      "application/vnd.jupyter.widget-view+json": {
       "model_id": "e21edee906974d7aae4c762d6c50de29",
       "version_major": 2,
       "version_minor": 0
      },
      "text/plain": [
       "  0%|          | 0/37474 [00:00<?, ?it/s]"
      ]
     },
     "metadata": {},
     "output_type": "display_data"
    }
   ],
   "source": [
    "#result_htmlにアクセスして回す\n",
    "\n",
    "for target_txt in tqdm(target_txts_list):\n",
    "    #レース結果を保存したhtmlファイルとそのDF\n",
    "    dfs = pd.read_html(target_txt, encoding=\"utf-8\")\n",
    "\n",
    "    tyakujun = dfs[2]\n",
    "    Player_Data_Ghost[\"PlayerID\"] = tyakujun[\"ボートレーサー\"].str.extract(r\"(\\d+)\").astype(int)\n",
    "    Player_Data_Ghost[\"PlayerName\"] = tyakujun[\"ボートレーサー\"].str.extract(r\"(\\D+)\")\n",
    "    Player_Data_Ghost[\"Place\"] = target_txt[-19:-17]\n",
    "    Player_Data_Ghost[\"Day\"] = target_txt[-16:-8]#Data型にしたい\n",
    "    Player_Data_Ghost[\"Day\"] = pd.to_datetime(Player_Data_Ghost[\"Day\"])\n",
    "    Player_Data_Ghost[\"Race_No\"] = target_txt[-7:-5]\n",
    "    Player_Data_Ghost[\"Rank\"] = tyakujun[\"着\"]\n",
    "\n",
    "    #DFに情報を追加する\n",
    "    df_player_data = df_player_data.append(Player_Data_Ghost)\n",
    "\n",
    "    #取得済みリストを作る\n",
    "    with open(\"match_up.txt\", \"a\", encoding=\"utf-8\") as file:\n",
    "            file.write(target_txt + \",\")\n",
    "\n",
    "df_player_data.drop_duplicates(keep=\"last\", inplace=True)\n"
   ]
  },
  {
   "cell_type": "code",
   "execution_count": 7,
   "metadata": {},
   "outputs": [
    {
     "data": {
      "text/html": [
       "<div>\n",
       "<style scoped>\n",
       "    .dataframe tbody tr th:only-of-type {\n",
       "        vertical-align: middle;\n",
       "    }\n",
       "\n",
       "    .dataframe tbody tr th {\n",
       "        vertical-align: top;\n",
       "    }\n",
       "\n",
       "    .dataframe thead th {\n",
       "        text-align: right;\n",
       "    }\n",
       "</style>\n",
       "<table border=\"1\" class=\"dataframe\">\n",
       "  <thead>\n",
       "    <tr style=\"text-align: right;\">\n",
       "      <th></th>\n",
       "      <th>PlayerID</th>\n",
       "      <th>PlayerName</th>\n",
       "      <th>Rank</th>\n",
       "      <th>Day</th>\n",
       "      <th>Race_No</th>\n",
       "      <th>Place</th>\n",
       "    </tr>\n",
       "  </thead>\n",
       "  <tbody>\n",
       "    <tr>\n",
       "      <th>0</th>\n",
       "      <td>4645</td>\n",
       "      <td>上村 純一</td>\n",
       "      <td>１</td>\n",
       "      <td>2014-01-02</td>\n",
       "      <td>01</td>\n",
       "      <td>01</td>\n",
       "    </tr>\n",
       "    <tr>\n",
       "      <th>1</th>\n",
       "      <td>3532</td>\n",
       "      <td>柴田 光</td>\n",
       "      <td>２</td>\n",
       "      <td>2014-01-02</td>\n",
       "      <td>01</td>\n",
       "      <td>01</td>\n",
       "    </tr>\n",
       "    <tr>\n",
       "      <th>2</th>\n",
       "      <td>3115</td>\n",
       "      <td>鈴木 正人</td>\n",
       "      <td>３</td>\n",
       "      <td>2014-01-02</td>\n",
       "      <td>01</td>\n",
       "      <td>01</td>\n",
       "    </tr>\n",
       "    <tr>\n",
       "      <th>3</th>\n",
       "      <td>3560</td>\n",
       "      <td>太田 克哉</td>\n",
       "      <td>４</td>\n",
       "      <td>2014-01-02</td>\n",
       "      <td>01</td>\n",
       "      <td>01</td>\n",
       "    </tr>\n",
       "    <tr>\n",
       "      <th>4</th>\n",
       "      <td>3376</td>\n",
       "      <td>萩原 善行</td>\n",
       "      <td>５</td>\n",
       "      <td>2014-01-02</td>\n",
       "      <td>01</td>\n",
       "      <td>01</td>\n",
       "    </tr>\n",
       "    <tr>\n",
       "      <th>...</th>\n",
       "      <td>...</td>\n",
       "      <td>...</td>\n",
       "      <td>...</td>\n",
       "      <td>...</td>\n",
       "      <td>...</td>\n",
       "      <td>...</td>\n",
       "    </tr>\n",
       "    <tr>\n",
       "      <th>1</th>\n",
       "      <td>4954</td>\n",
       "      <td>内山 峻輔</td>\n",
       "      <td>２</td>\n",
       "      <td>2022-03-18</td>\n",
       "      <td>12</td>\n",
       "      <td>02</td>\n",
       "    </tr>\n",
       "    <tr>\n",
       "      <th>2</th>\n",
       "      <td>4360</td>\n",
       "      <td>庄司 孝輔</td>\n",
       "      <td>３</td>\n",
       "      <td>2022-03-18</td>\n",
       "      <td>12</td>\n",
       "      <td>02</td>\n",
       "    </tr>\n",
       "    <tr>\n",
       "      <th>3</th>\n",
       "      <td>3584</td>\n",
       "      <td>佐々木　英樹</td>\n",
       "      <td>４</td>\n",
       "      <td>2022-03-18</td>\n",
       "      <td>12</td>\n",
       "      <td>02</td>\n",
       "    </tr>\n",
       "    <tr>\n",
       "      <th>4</th>\n",
       "      <td>4532</td>\n",
       "      <td>秋元 哲</td>\n",
       "      <td>５</td>\n",
       "      <td>2022-03-18</td>\n",
       "      <td>12</td>\n",
       "      <td>02</td>\n",
       "    </tr>\n",
       "    <tr>\n",
       "      <th>5</th>\n",
       "      <td>3722</td>\n",
       "      <td>西村 秀樹</td>\n",
       "      <td>６</td>\n",
       "      <td>2022-03-18</td>\n",
       "      <td>12</td>\n",
       "      <td>02</td>\n",
       "    </tr>\n",
       "  </tbody>\n",
       "</table>\n",
       "<p>224844 rows × 6 columns</p>\n",
       "</div>"
      ],
      "text/plain": [
       "   PlayerID PlayerName Rank        Day Race_No Place\n",
       "0      4645      上村 純一    １ 2014-01-02      01    01\n",
       "1      3532       柴田 光    ２ 2014-01-02      01    01\n",
       "2      3115      鈴木 正人    ３ 2014-01-02      01    01\n",
       "3      3560      太田 克哉    ４ 2014-01-02      01    01\n",
       "4      3376      萩原 善行    ５ 2014-01-02      01    01\n",
       "..      ...        ...  ...        ...     ...   ...\n",
       "1      4954      内山 峻輔    ２ 2022-03-18      12    02\n",
       "2      4360      庄司 孝輔    ３ 2022-03-18      12    02\n",
       "3      3584     佐々木　英樹    ４ 2022-03-18      12    02\n",
       "4      4532       秋元 哲    ５ 2022-03-18      12    02\n",
       "5      3722      西村 秀樹    ６ 2022-03-18      12    02\n",
       "\n",
       "[224844 rows x 6 columns]"
      ]
     },
     "metadata": {},
     "output_type": "display_data"
    },
    {
     "name": "stderr",
     "output_type": "stream",
     "text": [
      "C:\\Users\\rstta\\AppData\\Local\\Temp/ipykernel_9520/196182690.py:2: FutureWarning: Treating datetime data as categorical rather than numeric in `.describe` is deprecated and will be removed in a future version of pandas. Specify `datetime_is_numeric=True` to silence this warning and adopt the future behavior now.\n",
      "  df_player_data.describe()\n"
     ]
    },
    {
     "data": {
      "text/html": [
       "<div>\n",
       "<style scoped>\n",
       "    .dataframe tbody tr th:only-of-type {\n",
       "        vertical-align: middle;\n",
       "    }\n",
       "\n",
       "    .dataframe tbody tr th {\n",
       "        vertical-align: top;\n",
       "    }\n",
       "\n",
       "    .dataframe thead th {\n",
       "        text-align: right;\n",
       "    }\n",
       "</style>\n",
       "<table border=\"1\" class=\"dataframe\">\n",
       "  <thead>\n",
       "    <tr style=\"text-align: right;\">\n",
       "      <th></th>\n",
       "      <th>PlayerID</th>\n",
       "      <th>PlayerName</th>\n",
       "      <th>Rank</th>\n",
       "      <th>Day</th>\n",
       "      <th>Race_No</th>\n",
       "      <th>Place</th>\n",
       "    </tr>\n",
       "  </thead>\n",
       "  <tbody>\n",
       "    <tr>\n",
       "      <th>count</th>\n",
       "      <td>224844.0</td>\n",
       "      <td>224844</td>\n",
       "      <td>224843</td>\n",
       "      <td>224844</td>\n",
       "      <td>224844</td>\n",
       "      <td>224844</td>\n",
       "    </tr>\n",
       "    <tr>\n",
       "      <th>unique</th>\n",
       "      <td>1879.0</td>\n",
       "      <td>1878</td>\n",
       "      <td>17</td>\n",
       "      <td>2285</td>\n",
       "      <td>12</td>\n",
       "      <td>2</td>\n",
       "    </tr>\n",
       "    <tr>\n",
       "      <th>top</th>\n",
       "      <td>3251.0</td>\n",
       "      <td>平石 和男</td>\n",
       "      <td>２</td>\n",
       "      <td>2019-12-03 00:00:00</td>\n",
       "      <td>01</td>\n",
       "      <td>01</td>\n",
       "    </tr>\n",
       "    <tr>\n",
       "      <th>freq</th>\n",
       "      <td>617.0</td>\n",
       "      <td>617</td>\n",
       "      <td>37472</td>\n",
       "      <td>144</td>\n",
       "      <td>18816</td>\n",
       "      <td>113154</td>\n",
       "    </tr>\n",
       "    <tr>\n",
       "      <th>first</th>\n",
       "      <td>NaN</td>\n",
       "      <td>NaN</td>\n",
       "      <td>NaN</td>\n",
       "      <td>2014-01-02 00:00:00</td>\n",
       "      <td>NaN</td>\n",
       "      <td>NaN</td>\n",
       "    </tr>\n",
       "    <tr>\n",
       "      <th>last</th>\n",
       "      <td>NaN</td>\n",
       "      <td>NaN</td>\n",
       "      <td>NaN</td>\n",
       "      <td>2022-03-18 00:00:00</td>\n",
       "      <td>NaN</td>\n",
       "      <td>NaN</td>\n",
       "    </tr>\n",
       "  </tbody>\n",
       "</table>\n",
       "</div>"
      ],
      "text/plain": [
       "        PlayerID PlayerName    Rank                  Day Race_No   Place\n",
       "count   224844.0     224844  224843               224844  224844  224844\n",
       "unique    1879.0       1878      17                 2285      12       2\n",
       "top       3251.0      平石 和男       ２  2019-12-03 00:00:00      01      01\n",
       "freq       617.0        617   37472                  144   18816  113154\n",
       "first        NaN        NaN     NaN  2014-01-02 00:00:00     NaN     NaN\n",
       "last         NaN        NaN     NaN  2022-03-18 00:00:00     NaN     NaN"
      ]
     },
     "execution_count": 7,
     "metadata": {},
     "output_type": "execute_result"
    }
   ],
   "source": [
    "display(df_player_data)\n",
    "df_player_data.describe()"
   ]
  },
  {
   "cell_type": "code",
   "execution_count": 11,
   "metadata": {},
   "outputs": [
    {
     "data": {
      "text/plain": [
       "PlayerID      0\n",
       "PlayerName    0\n",
       "Rank          1\n",
       "Day           0\n",
       "Race_No       0\n",
       "Place         0\n",
       "dtype: int64"
      ]
     },
     "execution_count": 11,
     "metadata": {},
     "output_type": "execute_result"
    }
   ],
   "source": [
    "df_player_data.isna().sum()"
   ]
  },
  {
   "cell_type": "code",
   "execution_count": 8,
   "metadata": {},
   "outputs": [],
   "source": [
    "output_file = \"PlayerRankData.csv\"\n",
    "df_player_data.to_csv(os.path.join(\"data/\", output_file), mode=\"a\", index=False)"
   ]
  },
  {
   "cell_type": "markdown",
   "metadata": {},
   "source": [
    "#目的は？四半期、半期毎のトータルの複勝率、三連率、開催地の複勝率、三連率をリターンする関数"
   ]
  },
  {
   "cell_type": "code",
   "execution_count": null,
   "metadata": {},
   "outputs": [],
   "source": [
    "PlayerRankData = pd.read_csv(\"data/PlayerRankData.csv\", encoding=\"utf-8\")"
   ]
  },
  {
   "cell_type": "code",
   "execution_count": 55,
   "metadata": {},
   "outputs": [
    {
     "name": "stdout",
     "output_type": "stream",
     "text": [
      "50未満\n"
     ]
    },
    {
     "data": {
      "text/plain": [
       "0.41666666666666663"
      ]
     },
     "metadata": {},
     "output_type": "display_data"
    },
    {
     "data": {
      "text/plain": [
       "0.5833333333333333"
      ]
     },
     "metadata": {},
     "output_type": "display_data"
    },
    {
     "data": {
      "text/plain": [
       "0.5"
      ]
     },
     "metadata": {},
     "output_type": "display_data"
    }
   ],
   "source": [
    "class WinRate:\n",
    "\n",
    "#引数に何を持ってくるか？\n",
    "##Day、Race_No、Player、Rank、Place\n",
    "\n",
    "def player_winrate(x,):\n",
    "    PRD_H_Period = PlayerRankData.query('\"2015-01-01\" <= Day <= \"2015-07-01\"')#開催日から半期さかのぼる処理を書きたい\n",
    "    PRD_Q_Period = PlayerRankData.query('\"2015-04-01\" <= Day <= \"2015-07-01\"')#開催日から4半期さかのぼる処理を書きたい\n",
    "\n",
    "    #開催地のデータ―\n",
    "    #Placeを変数にする\n",
    "    PRD_Loc_H_Period = PRD_H_Period.query(\"1 == Place\") #半期の開催地のデータ\n",
    "    PRD_Loc_Q_Period = PRD_Q_Period.query(\"1 == Place\") #四半期の開催地のデータ\n",
    "\n",
    "    #PlayerIDの選手の全出場数\n",
    "    Player_Turn_Sum = PRD_H_Period[PRD_H_Period[\"PlayerID\"] == ] #PlayerIDを変数にする\n",
    "\n",
    "    #出場回数によって決められた値を与える\n",
    "    #半期の全出場回数が200未満はnanをとりあえず入れる。\n",
    "    #後で平均値よりしたの値を代入\n",
    "\n",
    "    #全場の勝率\n",
    "    if len(Player_Turn_Sum) > 300:\n",
    "        #半期毎\n",
    "        ##全開催地の勝率を計算\n",
    "        PRD_H_1st = PRD_H_Period['PlayerID'][PRD_H_Period['Rank']==\"１\"].value_counts() / PRD_H_Period['PlayerID'].value_counts()\n",
    "        PRD_H_2nd = PRD_H_Period['PlayerID'][PRD_H_Period['Rank']==\"２\"].value_counts() / PRD_H_Period['PlayerID'].value_counts()\n",
    "        PRD_H_3rd = PRD_H_Period['PlayerID'][PRD_H_Period['Rank']==\"３\"].value_counts() / PRD_H_Period['PlayerID'].value_counts()\n",
    "\n",
    "        DW_H_Rate = PRD_H_1st + PRD_H_2nd\n",
    "        DW_H_Rate = DW_H_Rate.fillna(0)\n",
    "        TW_H_Rate = DW_H_Rate + PRD_H_3rd\n",
    "        TW_H_Rate = TW_H_Rate.fillna(0)\n",
    "\n",
    "        ##開催地の勝率を計算\n",
    "        PRD_Loc_H_1st = PRD_Loc_H_Period['PlayerID'][PRD_Loc_H_Period['Rank']==\"１\"].value_counts() / PRD_Loc_H_Period['PlayerID'].value_counts()\n",
    "        PRD_Loc_H_2nd = PRD_Loc_H_Period['PlayerID'][PRD_Loc_H_Period['Rank']==\"２\"].value_counts() / PRD_Loc_H_Period['PlayerID'].value_counts()\n",
    "        PRD_Loc_H_3rd = PRD_Loc_H_Period['PlayerID'][PRD_Loc_H_Period['Rank']==\"３\"].value_counts() / PRD_Loc_H_Period['PlayerID'].value_counts()\n",
    "\n",
    "        DW_Loc_H_Rate = PRD_Loc_H_1st + PRD_Loc_H_2nd\n",
    "        DW_Loc_H_Rate = DW_Loc_H_Rate.fillna(0)\n",
    "        TW_Loc_H_Rate = DW_Loc_H_Rate + PRD_Loc_H_3rd\n",
    "        TW_Loc_H_Rate = TW_Loc_H_Rate.fillna(0)\n",
    "\n",
    "    else:\n",
    "        print(\"50未満\")\n",
    "\n",
    "    if len(Player_Turn_Sum) >= 0:\n",
    "        #四半期毎\n",
    "        ##全開催地の勝率を計算\n",
    "        PRD_Q_1st = PRD_Q_Period['PlayerID'][PRD_Q_Period['Rank']==\"１\"].value_counts() / PRD_Q_Period['PlayerID'].value_counts()\n",
    "        PRD_Q_2nd = PRD_Q_Period['PlayerID'][PRD_Q_Period['Rank']==\"２\"].value_counts() / PRD_Q_Period['PlayerID'].value_counts()\n",
    "        PRD_Q_3rd = PRD_Q_Period['PlayerID'][PRD_Q_Period['Rank']==\"３\"].value_counts() / PRD_Q_Period['PlayerID'].value_counts()\n",
    "\n",
    "        DW_Q_Rate = PRD_Q_1st + PRD_Q_2nd\n",
    "        DW_Q_Rate = DW_Q_Rate.fillna(0)\n",
    "        TW_Q_Rate = DW_Q_Rate + PRD_Q_3rd\n",
    "        TW_Q_Rate = TW_Q_Rate.fillna(0)\n",
    "\n",
    "        ##開催地の勝率を計算\n",
    "        PRD_Loc_Q_1st = PRD_Loc_Q_Period['PlayerID'][PRD_Loc_Q_Period['Rank']==\"１\"].value_counts() / PRD_Loc_Q_Period['PlayerID'].value_counts()\n",
    "        PRD_Loc_Q_2nd = PRD_Loc_Q_Period['PlayerID'][PRD_Loc_Q_Period['Rank']==\"２\"].value_counts() / PRD_Loc_Q_Period['PlayerID'].value_counts()\n",
    "        PRD_Loc_Q_3rd = PRD_Loc_Q_Period['PlayerID'][PRD_Loc_Q_Period['Rank']==\"３\"].value_counts() / PRD_Loc_Q_Period['PlayerID'].value_counts()\n",
    "\n",
    "        DW_Loc_Q_Rate = PRD_Loc_Q_1st + PRD_Loc_Q_2nd\n",
    "        DW_Loc_Q_Rate = DW_Loc_Q_Rate.fillna(0)\n",
    "        TW_Loc_Q_Rate = DW_Loc_Q_Rate + PRD_Loc_Q_3rd\n",
    "        TW_Loc_Q_Rate = TW_Loc_Q_Rate.fillna(0)\n",
    "    else:\n",
    "        print(\"50未満\")\n",
    "\n",
    "    Player_Win[\"PlayerID\"] = #PlayerIDの変数\n",
    "    Player_Win[\"Day\"] = #Dayの変数\n",
    "    Player_Win\n",
    "\n",
    "    return\n",
    "\n",
    "\n",
    "\n",
    "\n",
    "#playerIDで抽出したい、\n",
    "#forでIDで回す\n",
    "#display(PlayerRankData)\n",
    "\n",
    "#x = PlayerRankData[PlayerRankData['PlayerID'] == 4645] #PlayerIDを変数にする\n",
    "#len(x['PlayerID']).value_counts()\n",
    "#display(x)\n",
    "#len(x) #総出場数\n",
    "\n",
    "#PlayerRankData[PlayerRankData['PlayerID'] == 4645]\n",
    "\n",
    "#display(x)\n",
    "    #3ヶ月勝率、6ヶ月勝率=Dayから3ヶ月、6ヶ月前に遡って集計をする\n",
    "\n",
    "    #出場数を集計する\n",
    "    #全部の1or2の回数を数える、3の回数を数えて前のに足す\n",
    "    #上記の勝ち数、出場数からPlaceデータで分別する\n",
    "    #勝ち数/出場数で勝率を求める\n"
   ]
  },
  {
   "cell_type": "code",
   "execution_count": 45,
   "metadata": {},
   "outputs": [
    {
     "name": "stdout",
     "output_type": "stream",
     "text": [
      "1485    0.313953\n",
      "2014    0.317365\n",
      "2273    0.304348\n",
      "2276    0.250000\n",
      "2377    0.047619\n",
      "          ...   \n",
      "5220    0.000000\n",
      "5225    0.000000\n",
      "5226    0.000000\n",
      "5228    0.111111\n",
      "5231    0.000000\n",
      "Name: PlayerID, Length: 1879, dtype: float64\n"
     ]
    },
    {
     "data": {
      "text/plain": [
       "0.4836852207293666"
      ]
     },
     "execution_count": 45,
     "metadata": {},
     "output_type": "execute_result"
    }
   ],
   "source": [
    "z=PlayerRankData['PlayerID'][PlayerRankData['Rank']==\"１\"].value_counts() / PlayerRankData['PlayerID'].value_counts()\n",
    "zz = PlayerRankData['PlayerID'][PlayerRankData['Rank']==\"２\"].value_counts() / PlayerRankData['PlayerID'].value_counts()\n",
    "z = z.fillna(0)\n",
    "zz = zz.fillna(0)\n",
    "\n",
    "zzz = z + zz\n",
    "print(zzz)\n",
    "zzz[4645]"
   ]
  },
  {
   "cell_type": "code",
   "execution_count": 50,
   "metadata": {},
   "outputs": [
    {
     "ename": "SyntaxError",
     "evalue": "invalid syntax (Temp/ipykernel_10832/915322008.py, line 1)",
     "output_type": "error",
     "traceback": [
      "\u001b[1;36m  File \u001b[1;32m\"C:\\Users\\rstta\\AppData\\Local\\Temp/ipykernel_10832/915322008.py\"\u001b[1;36m, line \u001b[1;32m1\u001b[0m\n\u001b[1;33m    r1df = PlayerRankData[PlayerRankData['Rank']==\"１\"] || [PlayerRankData['Rank']==\"２\"]\u001b[0m\n\u001b[1;37m                                                        ^\u001b[0m\n\u001b[1;31mSyntaxError\u001b[0m\u001b[1;31m:\u001b[0m invalid syntax\n"
     ]
    }
   ],
   "source": [
    "r1df = PlayerRankData[PlayerRankData['Rank']==\"１\"]\n",
    "r1df['PlayerID'].value_counts()"
   ]
  },
  {
   "cell_type": "code",
   "execution_count": 44,
   "metadata": {},
   "outputs": [
    {
     "data": {
      "text/plain": [
       "181155"
      ]
     },
     "execution_count": 44,
     "metadata": {},
     "output_type": "execute_result"
    }
   ],
   "source": [
    "4645*39"
   ]
  },
  {
   "cell_type": "code",
   "execution_count": 27,
   "metadata": {},
   "outputs": [
    {
     "data": {
      "text/html": [
       "<div>\n",
       "<style scoped>\n",
       "    .dataframe tbody tr th:only-of-type {\n",
       "        vertical-align: middle;\n",
       "    }\n",
       "\n",
       "    .dataframe tbody tr th {\n",
       "        vertical-align: top;\n",
       "    }\n",
       "\n",
       "    .dataframe thead th {\n",
       "        text-align: right;\n",
       "    }\n",
       "</style>\n",
       "<table border=\"1\" class=\"dataframe\">\n",
       "  <thead>\n",
       "    <tr style=\"text-align: right;\">\n",
       "      <th></th>\n",
       "      <th>PlayerID</th>\n",
       "      <th>PlayerName</th>\n",
       "      <th>Rank</th>\n",
       "      <th>Day</th>\n",
       "      <th>Race_No</th>\n",
       "      <th>Place</th>\n",
       "    </tr>\n",
       "  </thead>\n",
       "  <tbody>\n",
       "    <tr>\n",
       "      <th>0</th>\n",
       "      <td>4645</td>\n",
       "      <td>上村 純一</td>\n",
       "      <td>１</td>\n",
       "      <td>2014-01-02</td>\n",
       "      <td>1</td>\n",
       "      <td>1</td>\n",
       "    </tr>\n",
       "    <tr>\n",
       "      <th>1</th>\n",
       "      <td>3532</td>\n",
       "      <td>柴田 光</td>\n",
       "      <td>２</td>\n",
       "      <td>2014-01-02</td>\n",
       "      <td>1</td>\n",
       "      <td>1</td>\n",
       "    </tr>\n",
       "    <tr>\n",
       "      <th>2</th>\n",
       "      <td>3115</td>\n",
       "      <td>鈴木 正人</td>\n",
       "      <td>３</td>\n",
       "      <td>2014-01-02</td>\n",
       "      <td>1</td>\n",
       "      <td>1</td>\n",
       "    </tr>\n",
       "    <tr>\n",
       "      <th>3</th>\n",
       "      <td>3560</td>\n",
       "      <td>太田 克哉</td>\n",
       "      <td>４</td>\n",
       "      <td>2014-01-02</td>\n",
       "      <td>1</td>\n",
       "      <td>1</td>\n",
       "    </tr>\n",
       "    <tr>\n",
       "      <th>4</th>\n",
       "      <td>3376</td>\n",
       "      <td>萩原 善行</td>\n",
       "      <td>５</td>\n",
       "      <td>2014-01-02</td>\n",
       "      <td>1</td>\n",
       "      <td>1</td>\n",
       "    </tr>\n",
       "    <tr>\n",
       "      <th>...</th>\n",
       "      <td>...</td>\n",
       "      <td>...</td>\n",
       "      <td>...</td>\n",
       "      <td>...</td>\n",
       "      <td>...</td>\n",
       "      <td>...</td>\n",
       "    </tr>\n",
       "    <tr>\n",
       "      <th>4789</th>\n",
       "      <td>4337</td>\n",
       "      <td>平本 真之</td>\n",
       "      <td>２</td>\n",
       "      <td>2014-05-16</td>\n",
       "      <td>11</td>\n",
       "      <td>1</td>\n",
       "    </tr>\n",
       "    <tr>\n",
       "      <th>4790</th>\n",
       "      <td>3514</td>\n",
       "      <td>山一 鉄也</td>\n",
       "      <td>３</td>\n",
       "      <td>2014-05-16</td>\n",
       "      <td>11</td>\n",
       "      <td>1</td>\n",
       "    </tr>\n",
       "    <tr>\n",
       "      <th>4791</th>\n",
       "      <td>4292</td>\n",
       "      <td>麻生 慎介</td>\n",
       "      <td>４</td>\n",
       "      <td>2014-05-16</td>\n",
       "      <td>11</td>\n",
       "      <td>1</td>\n",
       "    </tr>\n",
       "    <tr>\n",
       "      <th>4792</th>\n",
       "      <td>4109</td>\n",
       "      <td>谷津 幸宏</td>\n",
       "      <td>５</td>\n",
       "      <td>2014-05-16</td>\n",
       "      <td>11</td>\n",
       "      <td>1</td>\n",
       "    </tr>\n",
       "    <tr>\n",
       "      <th>4793</th>\n",
       "      <td>3233</td>\n",
       "      <td>小畑 実成</td>\n",
       "      <td>６</td>\n",
       "      <td>2014-05-16</td>\n",
       "      <td>11</td>\n",
       "      <td>1</td>\n",
       "    </tr>\n",
       "  </tbody>\n",
       "</table>\n",
       "<p>4794 rows × 6 columns</p>\n",
       "</div>"
      ],
      "text/plain": [
       "      PlayerID PlayerName Rank         Day  Race_No  Place\n",
       "0         4645      上村 純一    １  2014-01-02        1      1\n",
       "1         3532       柴田 光    ２  2014-01-02        1      1\n",
       "2         3115      鈴木 正人    ３  2014-01-02        1      1\n",
       "3         3560      太田 克哉    ４  2014-01-02        1      1\n",
       "4         3376      萩原 善行    ５  2014-01-02        1      1\n",
       "...        ...        ...  ...         ...      ...    ...\n",
       "4789      4337      平本 真之    ２  2014-05-16       11      1\n",
       "4790      3514      山一 鉄也    ３  2014-05-16       11      1\n",
       "4791      4292      麻生 慎介    ４  2014-05-16       11      1\n",
       "4792      4109      谷津 幸宏    ５  2014-05-16       11      1\n",
       "4793      3233      小畑 実成    ６  2014-05-16       11      1\n",
       "\n",
       "[4794 rows x 6 columns]"
      ]
     },
     "metadata": {},
     "output_type": "display_data"
    },
    {
     "data": {
      "text/plain": [
       "PlayerID       int64\n",
       "PlayerName    object\n",
       "Rank          object\n",
       "Day           object\n",
       "Race_No        int64\n",
       "Place          int64\n",
       "dtype: object"
      ]
     },
     "execution_count": 27,
     "metadata": {},
     "output_type": "execute_result"
    }
   ],
   "source": [
    "display(PlayerRankData)\n",
    "PlayerRankData.dtypes"
   ]
  },
  {
   "cell_type": "code",
   "execution_count": null,
   "metadata": {},
   "outputs": [],
   "source": [
    "#player_winrate()"
   ]
  },
  {
   "cell_type": "code",
   "execution_count": 16,
   "metadata": {},
   "outputs": [],
   "source": [
    "import os\n",
    "import pandas as pd\n",
    "\n",
    "#NoAは出場数、_2は二連率、_3は3連率、Venueは開催地、qは3ヶ月、hは6ヶ月\n",
    "Player_Win = [ \"RaceID\",\"PlayerID\", \"NoA\",\n",
    "                \"q_Total_2\", \"q_Total_3\", \"h_Total_2\", \"h_Total_3\",\n",
    "                \"q_Venue_2\", \"q_Venue_3\", \"h_Venue_2\", \"h_Venue_3\"]\n",
    "\n",
    "url = \"test/01/result_html/01_20140102_01.html\"\n",
    "dfs = pd.read_html(url, encoding=\"utf-8\")\n",
    "dfs[2]\n",
    "\n",
    "Player_Win_Rate = pd.DataFrame(index=[], columns=Player_Win)\n"
   ]
  }
 ],
 "metadata": {
  "interpreter": {
   "hash": "7b4b4feff2f24a0f0a34464dbe537a36fda679851528fb8735cb41fa49dffb2d"
  },
  "kernelspec": {
   "display_name": "Python 3.9.7 ('base')",
   "language": "python",
   "name": "python3"
  },
  "language_info": {
   "codemirror_mode": {
    "name": "ipython",
    "version": 3
   },
   "file_extension": ".py",
   "mimetype": "text/x-python",
   "name": "python",
   "nbconvert_exporter": "python",
   "pygments_lexer": "ipython3",
   "version": "3.9.7"
  },
  "orig_nbformat": 4
 },
 "nbformat": 4,
 "nbformat_minor": 2
}
